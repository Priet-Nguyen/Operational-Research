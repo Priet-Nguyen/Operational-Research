{
 "cells": [
  {
   "cell_type": "code",
   "execution_count": 1,
   "metadata": {},
   "outputs": [],
   "source": [
    "import gurobipy as gp\n",
    "from gurobipy import *\n",
    "import numpy as np\n",
    "import pandas as pd"
   ]
  },
  {
   "cell_type": "code",
   "execution_count": 2,
   "metadata": {},
   "outputs": [],
   "source": [
    "# Dictionaries for factories (supply in tons), depots(throughput in tons), customers(demand in tons)\n",
    "f = dict({\n",
    "    'Liverpool': 150000,\n",
    "    'Brighton': 200000\n",
    "})\n",
    "\n",
    "d = dict({\n",
    "    'Newcastle': 70000,\n",
    "    'Birmingham': 50000,\n",
    "    'London': 100000,\n",
    "    'Exeter': 40000\n",
    "})\n",
    "\n",
    "c = dict({\n",
    "    'C1': 50000,\n",
    "    'C2': 10000,\n",
    "    'C3': 40000,\n",
    "    'C4': 35000,\n",
    "    'C5': 60000,\n",
    "    'C6': 20000\n",
    "})"
   ]
  },
  {
   "cell_type": "code",
   "execution_count": 3,
   "metadata": {},
   "outputs": [],
   "source": [
    "# Dictionary for distribution costs per factory (in €/ton)\n",
    "arcs, distr_cost = gp.multidict({\n",
    "    ('Liverpool', 'Newcastle'): 0.5,\n",
    "    ('Liverpool', 'Birmingham'): 0.5,\n",
    "    ('Liverpool', 'London'): 1.0,\n",
    "    ('Liverpool', 'Exeter'): 0.2,\n",
    "    ('Liverpool', 'C1'): 1.0,\n",
    "    ('Liverpool', 'C3'): 1.5,\n",
    "    ('Liverpool', 'C4'): 2.0,\n",
    "    ('Liverpool', 'C6'): 2.5,\n",
    "    ('Brighton', 'Birmingham'): 0.3,\n",
    "    ('Brighton', 'London'): 0.5,\n",
    "    ('Brighton', 'Exeter'): 0.2,\n",
    "    ('Newcastle', 'C2'): 1.5,\n",
    "    ('Newcastle', 'C3'): 0.5,\n",
    "    ('Newcastle', 'C5'): 3.0,\n",
    "    ('Newcastle', 'C6'): 2.5,\n",
    "    ('Birmingham', 'C2'): 2.0,\n",
    "    ('Birmingham', 'C3'): 0.5,\n",
    "    ('Birmingham', 'C4'): 1.0,\n",
    "    ('Birmingham', 'C5'): 0.5,\n",
    "    ('London', 'C2'): 3.0,\n",
    "    ('London', 'C3'): 2.0,\n",
    "    ('London', 'C5'): 2.0,\n",
    "    ('London', 'C6'): 1.5,\n",
    "    ('Exeter', 'C3'): 0.2,\n",
    "    ('Exeter', 'C4'): 1.5,\n",
    "    ('Exeter', 'C5'): 2.0,\n",
    "    ('Exeter', 'C6'): 1.5    \n",
    "})"
   ]
  },
  {
   "cell_type": "code",
   "execution_count": 4,
   "metadata": {},
   "outputs": [
    {
     "name": "stdout",
     "output_type": "stream",
     "text": [
      "Academic license - for non-commercial use only - expires 2021-06-13\n",
      "Using license file C:\\Users\\PC\\gurobi.lic\n"
     ]
    }
   ],
   "source": [
    "# Define model\n",
    "model = Model('Transshipment_Assignment')\n",
    "\n",
    "# Create decision variables\n",
    "plan = model.addVars(arcs, name=\"plan\")\n",
    "\n",
    "# set objective function\n",
    "model.setObjective(plan.prod(distr_cost), GRB.MINIMIZE)"
   ]
  },
  {
   "cell_type": "code",
   "execution_count": 5,
   "metadata": {},
   "outputs": [],
   "source": [
    "# Define constraints\n",
    "# maximal factory supply\n",
    "factories = f.keys()\n",
    "factory_con = model.addConstrs((gp.quicksum(plan.select(i, '*')) <= f[i] for i in factories), name=\"factory_constraint\")\n",
    "\n",
    "# maximal depot throughput\n",
    "depots = d.keys()\n",
    "depot_through_con = model.addConstrs((gp.quicksum(plan.select(j, '*')) <= d[j] for j in depots), \n",
    "                                     name=\"depot_through_constraint\")\n",
    "# depot output == depot input\n",
    "depot_out_con = model.addConstrs((gp.quicksum(plan.select('*', j)) == gp.quicksum(plan.select(j, '*')) for j in depots),\n",
    "                                                                                 name=\"depot_out_constraint\")\n",
    "# customer requirement == customer input\n",
    "customers = c.keys()\n",
    "customer_con = model.addConstrs((gp.quicksum(plan.select('*', k)) == c[k] for k in customers), name=\"customer_constraint\")"
   ]
  },
  {
   "cell_type": "code",
   "execution_count": 6,
   "metadata": {},
   "outputs": [
    {
     "name": "stdout",
     "output_type": "stream",
     "text": [
      "Gurobi Optimizer version 9.1.1 build v9.1.1rc0 (win64)\n",
      "Thread count: 2 physical cores, 4 logical processors, using up to 4 threads\n",
      "Optimize a model with 16 rows, 29 columns and 75 nonzeros\n",
      "Model fingerprint: 0xec790327\n",
      "Coefficient statistics:\n",
      "  Matrix range     [1e+00, 1e+00]\n",
      "  Objective range  [2e-01, 4e+00]\n",
      "  Bounds range     [0e+00, 0e+00]\n",
      "  RHS range        [1e+04, 2e+05]\n",
      "Presolve removed 1 rows and 1 columns\n",
      "Presolve time: 0.03s\n",
      "Presolved: 15 rows, 28 columns, 73 nonzeros\n",
      "\n",
      "Iteration    Objective       Primal Inf.    Dual Inf.      Time\n",
      "       0    1.7300000e+05   2.624375e+04   0.000000e+00      0s\n",
      "       7    2.6100000e+05   0.000000e+00   0.000000e+00      0s\n",
      "\n",
      "Solved in 7 iterations and 0.05 seconds\n",
      "Optimal objective  2.610000000e+05\n"
     ]
    }
   ],
   "source": [
    "model.optimize()"
   ]
  },
  {
   "cell_type": "code",
   "execution_count": 7,
   "metadata": {},
   "outputs": [
    {
     "name": "stdout",
     "output_type": "stream",
     "text": [
      "Total distribution costs per month: 261000.0 €\n"
     ]
    }
   ],
   "source": [
    "# Optimal total distribution costs per month (in €)\n",
    "obj = model.getObjective()\n",
    "print(\"Total distribution costs per month: {0} €\".format(obj.getValue()))"
   ]
  },
  {
   "cell_type": "code",
   "execution_count": 8,
   "metadata": {},
   "outputs": [
    {
     "data": {
      "text/html": [
       "<div>\n",
       "<style scoped>\n",
       "    .dataframe tbody tr th:only-of-type {\n",
       "        vertical-align: middle;\n",
       "    }\n",
       "\n",
       "    .dataframe tbody tr th {\n",
       "        vertical-align: top;\n",
       "    }\n",
       "\n",
       "    .dataframe thead th {\n",
       "        text-align: right;\n",
       "    }\n",
       "</style>\n",
       "<table border=\"1\" class=\"dataframe\">\n",
       "  <thead>\n",
       "    <tr style=\"text-align: right;\">\n",
       "      <th></th>\n",
       "      <th>Supplier</th>\n",
       "      <th>Receiver</th>\n",
       "      <th>Quantity (in tons)</th>\n",
       "    </tr>\n",
       "  </thead>\n",
       "  <tbody>\n",
       "    <tr>\n",
       "      <th>0</th>\n",
       "      <td>Liverpool</td>\n",
       "      <td>Newcastle</td>\n",
       "      <td>10000.0</td>\n",
       "    </tr>\n",
       "    <tr>\n",
       "      <th>3</th>\n",
       "      <td>Liverpool</td>\n",
       "      <td>Exeter</td>\n",
       "      <td>40000.0</td>\n",
       "    </tr>\n",
       "    <tr>\n",
       "      <th>4</th>\n",
       "      <td>Liverpool</td>\n",
       "      <td>C1</td>\n",
       "      <td>50000.0</td>\n",
       "    </tr>\n",
       "    <tr>\n",
       "      <th>6</th>\n",
       "      <td>Liverpool</td>\n",
       "      <td>C4</td>\n",
       "      <td>35000.0</td>\n",
       "    </tr>\n",
       "    <tr>\n",
       "      <th>8</th>\n",
       "      <td>Brighton</td>\n",
       "      <td>Birmingham</td>\n",
       "      <td>50000.0</td>\n",
       "    </tr>\n",
       "    <tr>\n",
       "      <th>9</th>\n",
       "      <td>Brighton</td>\n",
       "      <td>London</td>\n",
       "      <td>30000.0</td>\n",
       "    </tr>\n",
       "    <tr>\n",
       "      <th>12</th>\n",
       "      <td>Newcastle</td>\n",
       "      <td>C2</td>\n",
       "      <td>10000.0</td>\n",
       "    </tr>\n",
       "    <tr>\n",
       "      <th>20</th>\n",
       "      <td>Birmingham</td>\n",
       "      <td>C5</td>\n",
       "      <td>50000.0</td>\n",
       "    </tr>\n",
       "    <tr>\n",
       "      <th>23</th>\n",
       "      <td>London</td>\n",
       "      <td>C5</td>\n",
       "      <td>10000.0</td>\n",
       "    </tr>\n",
       "    <tr>\n",
       "      <th>24</th>\n",
       "      <td>London</td>\n",
       "      <td>C6</td>\n",
       "      <td>20000.0</td>\n",
       "    </tr>\n",
       "    <tr>\n",
       "      <th>25</th>\n",
       "      <td>Exeter</td>\n",
       "      <td>C3</td>\n",
       "      <td>40000.0</td>\n",
       "    </tr>\n",
       "  </tbody>\n",
       "</table>\n",
       "</div>"
      ],
      "text/plain": [
       "      Supplier    Receiver  Quantity (in tons)\n",
       "0    Liverpool   Newcastle             10000.0\n",
       "3    Liverpool      Exeter             40000.0\n",
       "4    Liverpool          C1             50000.0\n",
       "6    Liverpool          C4             35000.0\n",
       "8     Brighton  Birmingham             50000.0\n",
       "9     Brighton      London             30000.0\n",
       "12   Newcastle          C2             10000.0\n",
       "20  Birmingham          C5             50000.0\n",
       "23      London          C5             10000.0\n",
       "24      London          C6             20000.0\n",
       "25      Exeter          C3             40000.0"
      ]
     },
     "execution_count": 8,
     "metadata": {},
     "output_type": "execute_result"
    }
   ],
   "source": [
    "# Optimal monthly transportation plan in tons\n",
    "# Extract quantities into a separate list\n",
    "quantities=[]\n",
    "for i in arcs:\n",
    "    quantities.append(plan[i].x)\n",
    "quantities\n",
    "\n",
    "# Extract arcs into a separate list\n",
    "arcs_list=list(arcs)\n",
    "\n",
    "# Define a dataframe for arcs\n",
    "df = pd.DataFrame(arcs_list, columns=[\"Supplier\", \"Receiver\"])\n",
    "\n",
    "# Add column for quantities\n",
    "df[\"Quantity (in tons)\"]=quantities\n",
    "\n",
    "# Styling of dataframe\n",
    "zero_columns=df[df[\"Quantity (in tons)\"] == 0].index\n",
    "df.drop(zero_columns, inplace=True)\n",
    "trans_plan = df.round(2)\n",
    "trans_plan"
   ]
  },
  {
   "cell_type": "code",
   "execution_count": null,
   "metadata": {},
   "outputs": [],
   "source": []
  }
 ],
 "metadata": {
  "kernelspec": {
   "display_name": "Python 3",
   "language": "python",
   "name": "python3"
  },
  "language_info": {
   "codemirror_mode": {
    "name": "ipython",
    "version": 3
   },
   "file_extension": ".py",
   "mimetype": "text/x-python",
   "name": "python",
   "nbconvert_exporter": "python",
   "pygments_lexer": "ipython3",
   "version": "3.7.6"
  }
 },
 "nbformat": 4,
 "nbformat_minor": 4
}
