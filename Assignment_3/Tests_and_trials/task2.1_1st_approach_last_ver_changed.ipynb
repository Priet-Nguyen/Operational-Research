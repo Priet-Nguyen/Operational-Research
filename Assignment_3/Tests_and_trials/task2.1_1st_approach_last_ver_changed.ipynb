{
 "cells": [
  {
   "cell_type": "code",
   "execution_count": 1,
   "metadata": {},
   "outputs": [],
   "source": [
    "import numpy as np\n",
    "import pandas as pd"
   ]
  },
  {
   "cell_type": "code",
   "execution_count": 2,
   "metadata": {},
   "outputs": [],
   "source": [
    "#order of calculation of f based on arcs, explain them\n",
    "arc_f={(3,2):[(1,3)], (3,4):[(1,3)],(5,2): [(1,5)], (5,6): [(1,5)],(2,4):[(3,2),(1,2),(5,2)],(2,7):[(3,2),(1,2),(5,2)],(2,6):[(3,2),(1,2),(5,2)], (4,7):[(2,4),(3,4)], (6,7):[(2,6),(5,6)]} # ordered arcs\n",
    "#tij\n",
    "arc_tij={(1,2): 10, (1,3):20, (1,5):25, (2,4):35, (2,6):35, (2,7):30, (3,2):15, (3,4):20, (4,7):30, (5,2):20, (5,6):25,  (6,7):10 }\n",
    "#alpha, beta\n",
    "node_albe={1:(0,1000000), 2:(18,30), 3:(35,45), 4:(64,75), 5:(35,50), 6:(64,75), 7:(0,1000000)}\n",
    "#gamma, delta\n",
    "arc_gamdel={(1,2): (10,15),(1,3):(10,25), (1,5):(15,25), (2,4):(28,35), (2,6):(26,34), (2,7):(32,60), (3,2):(35,50), (3,4):(43,50), (4,7):(70,99), (5,2): (30,80), (5,6):(48,55), (6,7):(72,80)}"
   ]
  },
  {
   "cell_type": "code",
   "execution_count": 3,
   "metadata": {},
   "outputs": [],
   "source": [
    "#feasibility function\n",
    "def feasib(fij,alph_i,beta_i,gam_ij,delta_ij):#conditions from (1) to (5)\n",
    "    if ((alph_i <= gam_ij) and (alph_i <= fij) and (fij<= beta_i)):#condition (1), not using (alph_i <= gam_ij), for (5,2), for (2,7) would not be correct\n",
    "        l_pi= max(0,gam_ij-fij)#lower pi\n",
    "        u_pi=min(beta_i-fij,delta_ij-fij)#upper pi\n",
    "        if l_pi <=u_pi:\n",
    "            return True\n",
    "        else:\n",
    "            return False\n",
    "    #condition (2)and(4)\n",
    "    elif ((beta_i<=fij) and (gam_ij<=fij) and (fij <= delta_ij)) or ((gam_ij<fij) and (fij<alph_i)and(alph_i<=delta_ij)) or ((gam_ij<fij)and (fij<delta_ij)and(delta_ij<=alph_i)):\n",
    "        return True\n",
    "    #conditions(3) and (5)\n",
    "    elif ((fij<gam_ij)and (gam_ij<alph_i))or((fij<alph_i)and(alph_i<gam_ij)and(gam_ij<beta_i))or((fij<alph_i)and(alph_i<beta_i)and(beta_i<gam_ij))or(delta_ij<fij):\n",
    "        return False"
   ]
  },
  {
   "cell_type": "code",
   "execution_count": 4,
   "metadata": {},
   "outputs": [],
   "source": [
    "#check feasibility\n",
    "def check_feasibility(f_ij, tc_ij, a_i,a_j,b_i,b_j,g_ij,d_ij,g_jk,d_jk): # tc=travelcost, a=alpha, b=beta, g=gamma, d=delta\n",
    "    p_i=None\n",
    "    b=False\n",
    "    f=None\n",
    "    #if ((alph_i <= gam_ij) and (alph_i <= fij) and (fij<= beta_i)):#condition (1), not using (alph_i <= gam_ij)\n",
    "    #1st condition\n",
    "    if ((a_i <= f_ij) and (f_ij<= b_i)):\n",
    "        lower_p_i= max(0,g_ij-f_ij)\n",
    "        upper_p_i=min(b_i-f_ij,d_ij-f_ij)\n",
    "        if lower_p_i>upper_p_i:\n",
    "            return p_i, b, f\n",
    "        else:\n",
    "            for p_i in range (lower_p_i,upper_p_i+1):\n",
    "                f_jk= f_ij+tc_ij+p_i\n",
    "                # insert if statement: if f_jk is feasible (=satisfy conditions (1), (2), (4)) \n",
    "    elif ((b_i<=f_ij) and (f_ij <= d_ij) and (g_ij<=f_ij)) or ((g_ij<f_ij) and (f_ij<a_i)and(a_i<=d_ij)) or ((g_ij<f_ij)and (f_ij<d_ij)and(d_ij<=a_i)): #2nd and 4th condition\n",
    "        p_i=0\n",
    "        b=True\n",
    "        f_jk= f_ij+tc_ij+p_i\n",
    "        return f_jk,p_i,b\n",
    "    elif ((f_ij<g_ij)and (g_ij<a_i))or((f_ij<a_i)and(a_i<g_ij)and(g_ij<b_i))or((f_ij<a_i)and(a_i<b_i)and(b_i<g_ij))or(d_ij<f_ij): #3rd and 5th condition\n",
    "        k=False\n",
    "        return pi, b , f"
   ]
  },
  {
   "cell_type": "code",
   "execution_count": 5,
   "metadata": {},
   "outputs": [
    {
     "name": "stdout",
     "output_type": "stream",
     "text": [
      "(35, 15, True)\n",
      "(35, 15, True)\n",
      "(50, 25, True)\n",
      "(40, 15, True)\n",
      "(None, 10, False)\n",
      "(20, 10, True)\n",
      "(None, 0, False)\n",
      "(50, 0, True)\n",
      "(None, 15, False)\n",
      "(None, 0, False)\n",
      "(None, 10, False)\n",
      "(20, 10, True)\n",
      "(None, 0, False)\n",
      "(64, 9, True)\n",
      "(64, 9, True)\n",
      "(64, 9, True)\n",
      "(73, 8, True)\n"
     ]
    },
    {
     "data": {
      "text/plain": [
       "{(1, 3): (0, 10),\n",
       " (1, 2): (0, 10),\n",
       " (1, 5): (0, 15),\n",
       " (3, 2): (35, 15),\n",
       " (3, 4): (35, 15),\n",
       " (5, 2): (50, 25),\n",
       " (5, 6): (40, 15),\n",
       " (2, 4): (20, 10),\n",
       " (2, 7): (50, 0),\n",
       " (2, 6): (20, 10),\n",
       " (4, 7): (64, 9),\n",
       " (6, 7): (64, 9)}"
      ]
     },
     "execution_count": 5,
     "metadata": {},
     "output_type": "execute_result"
    }
   ],
   "source": [
    "#arc_f={(3,2):[(1,3)], (3,4):[(1,3)],(5,2): [(1,5)], (5,6): [(1,5)],(2,4):[(3,2),(1,2),(5,2)],(2,7):[(3,2),(1,2),(5,2)],(2,6):[(3,2),(1,2),(5,2)], (4,7):[(2,4),(3,4)], (6,7):[(2,6),(5,6)]} # ordered arcs\n",
    "#dict of values of f\n",
    "dict_f={(1,3):(0,10),(1,2):(0,10), (1,5):(0,15)}#store the value of f(i,j) and add up the current f(j,k)\n",
    "k=0\n",
    "N=9 #number of iterations for the for loop #we have 12-3=9 arcs to calculate\n",
    "#feasib(fij,alph_i,beta_i,gam_ij,delta_ij)\n",
    "for key in arc_f:\n",
    "    k+=1\n",
    "    #print(key[0],key[1])#j=key[0], k=key[1]\n",
    "    #print(key)\n",
    "    prev_arc=arc_f[key]\n",
    "    f_list=[]\n",
    "    fpi_list=[]\n",
    "    for arc in prev_arc:\n",
    "        #print(arc)\n",
    "        fij=dict_f[arc][0]\n",
    "        #print('fij=',fij)\n",
    "        tij=arc_tij[arc]\n",
    "        #print('tij=',tij)\n",
    "        alph_i, beta_i= node_albe[arc[0]][0],node_albe[arc[0]][1]\n",
    "        #print('alph_i, beta_i=',node_albe[arc[0]][0],node_albe[arc[0]][1])\n",
    "        \n",
    "        #alph_j, beta_j\n",
    "        alph_j, beta_j= node_albe[key[0]][0],node_albe[key[0]][1]\n",
    "        #print('alph_i, beta_i=',node_albe[arc[0]][0],node_albe[arc[0]][1])\n",
    "        \n",
    "        \n",
    "        gam_ij,delta_ij=arc_gamdel[arc][0], arc_gamdel[arc][1]\n",
    "        #print('gam_ij,delta_ij=',arc_gamdel[arc][0],  arc_gamdel[arc][1])\n",
    "        \n",
    "        #gam_jk,delta_jk\n",
    "        gam_jk,delta_jk=arc_gamdel[key][0], arc_gamdel[key][1]\n",
    "        \n",
    "        #print(feasib(fij,alph_i,beta_i,gam_ij,delta_ij)) \n",
    "        \n",
    "        #cal_feasib_fjk\n",
    "        print(cal_feasib_fjk(fij,alph_i,alph_j,beta_i,beta_j,gam_ij,delta_ij,gam_jk,delta_jk,tij))\n",
    "        f, pi, b= cal_feasib_fjk(fij,alph_i,alph_j,beta_i,beta_j,gam_ij,delta_ij,gam_jk,delta_jk,tij)\n",
    "        #f_list.append()\n",
    "        #append to dict of f_list\n",
    "        if b==True:\n",
    "            fpi_list.append((f, pi))\n",
    "            f_list.append(f)\n",
    "    #look for the min f\n",
    "    index_min = np.argmin(f_list)\n",
    "    dict_f[key]=fpi_list [index_min]\n",
    "    if k>=N:\n",
    "        break\n",
    "dict_f"
   ]
  },
  {
   "cell_type": "markdown",
   "metadata": {},
   "source": [
    "### look at the whole requirements of task 2 again"
   ]
  },
  {
   "cell_type": "code",
   "execution_count": null,
   "metadata": {},
   "outputs": [],
   "source": []
  }
 ],
 "metadata": {
  "kernelspec": {
   "display_name": "Python 3",
   "language": "python",
   "name": "python3"
  },
  "language_info": {
   "codemirror_mode": {
    "name": "ipython",
    "version": 3
   },
   "file_extension": ".py",
   "mimetype": "text/x-python",
   "name": "python",
   "nbconvert_exporter": "python",
   "pygments_lexer": "ipython3",
   "version": "3.7.6"
  }
 },
 "nbformat": 4,
 "nbformat_minor": 4
}
