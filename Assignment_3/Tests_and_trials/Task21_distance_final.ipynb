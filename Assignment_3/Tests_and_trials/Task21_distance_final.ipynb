{
 "cells": [
  {
   "cell_type": "code",
   "execution_count": 1,
   "metadata": {},
   "outputs": [],
   "source": [
    "import json\n",
    "import numpy as np\n",
    "import random"
   ]
  },
  {
   "cell_type": "code",
   "execution_count": 2,
   "metadata": {},
   "outputs": [],
   "source": [
    "#dict of items vs weight\n",
    "Items_w={'ID=0':2.94,'ID=1':2.12,'ID=2':2.26,'ID=3':1.39,'ID=4':0.8,'ID=5':0.52,'ID=6':0.68,'ID=7':2.27,'ID=8':2.18,'ID=9':2.69,'ID=10':0.58,'ID=11':2.79,'ID=12':1.08,'ID=13':2.4,'ID=14':1.89,'ID=15':2.64,\n",
    "      'ID=16':2.21,'ID=17':0.77,'ID=18':2.27,'ID=19':2.01,'ID=20':2.67,'ID=21':2.44,'ID=22':1.85,'ID=23':1.22}"
   ]
  },
  {
   "cell_type": "code",
   "execution_count": 3,
   "metadata": {},
   "outputs": [],
   "source": [
    "#set of items\n",
    "I={'ID=0','ID=1','ID=2','ID=3','ID=4','ID=5','ID=6','ID=7','ID=8','ID=9','ID=10','ID=11','ID=12','ID=13','ID=14','ID=15',\n",
    "      'ID=16','ID=17','ID=18','ID=19','ID=20','ID=21','ID=22','ID=23'}"
   ]
  },
  {
   "cell_type": "code",
   "execution_count": 4,
   "metadata": {},
   "outputs": [],
   "source": [
    "#Nested dict\n",
    "#Shelves with ID of items, weight and quantities\n",
    "S= {'0':{'ID=10': [0.58, 100]}, '1':{'ID=6': [0.68, 100]}, '2': {'ID=5': [0.52, 100]}, '3': {'ID=11': [2.79, 100]}, '4': {'ID=8': [2.18, 100]}, '5': {'ID=18': [2.27, 100]}, '6': {'ID=15': [2.64, 100]},\n",
    "  '7': {'ID=0': [2.94, 100]}, '8': {'ID=13': [2.4, 100]}, '9': {'ID=7': [2.27, 100]}, '10': {'ID=3': [1.39, 100]}, '11': {'ID=4': [0.8, 100]}, '12': {'ID=21': [2.44, 100]}, '13': {'ID=16': [2.21, 100]},\n",
    "  '14':{'ID=22': [1.85, 100]}, '15': {'ID=1': [2.12, 100]}, '16': {'ID=2': [2.26, 100]}, '17': {'ID=20': [2.67, 100]}, '18': {'ID=12': [1.08, 100]}, '19': {'ID=17': [0.77, 100]}, '20': {'ID=23': [1.22, 100]}, \n",
    "   '21': {'ID=9': [2.69, 100]}, '22': {'ID=19': [2.01, 100]}, '23': {'ID=14': [1.89, 100]}}"
   ]
  },
  {
   "cell_type": "code",
   "execution_count": 5,
   "metadata": {},
   "outputs": [],
   "source": [
    "#Orders with items and quantities: nested dict\n",
    "O={'0':{'ID=3':1,'ID=7':1}, '1':{'ID=7':1,'ID=6':2, 'ID=8':1, 'ID=0':2, 'ID=2':1}, '2':{'ID=7':1,'ID=5':1}, '3':{'ID=7':2,'ID=1':1, 'ID=5':1, 'ID=6':1},\n",
    "   '4':{'ID=3':2,'ID=5':1, 'ID=4':1}, '5':{'ID=5':1,'ID=2':3, 'ID=4':2, 'ID=7':1, 'ID=8':1}, '6':{'ID=0':3,'ID=3':1,'ID=1':1}, '7':{'ID=1':1,'ID=8':1,'ID=7':1},\n",
    "  '8':{'ID=6':1,'ID=0':2,'ID=2':2,'ID=1':1,'ID=5':1,'ID=4':1 }, '9':{'ID=7':1,'ID=8':1,'ID=6':1,'ID=4':1,'ID=2':1,'ID=1':1 }}"
   ]
  },
  {
   "cell_type": "markdown",
   "metadata": {},
   "source": [
    "#### Data: Distances among shelves and depots"
   ]
  },
  {
   "cell_type": "code",
   "execution_count": 6,
   "metadata": {},
   "outputs": [],
   "source": [
    "# Opening JSON file\n",
    "f = open('layout_sku_24_2.json',)\n",
    "  \n",
    "# returns JSON object as \n",
    "# a dictionary\n",
    "dist = json.load(f)\n",
    "  \n",
    "# Iterating through the json\n",
    "# list\n",
    "#for i in data['emp_details']:\n",
    "#    print(i)\n",
    "  \n",
    "# Closing file\n",
    "f.close()"
   ]
  },
  {
   "cell_type": "code",
   "execution_count": 7,
   "metadata": {},
   "outputs": [],
   "source": [
    "#list of Depots\n",
    "D=['OutD0', 'OutD1']"
   ]
  },
  {
   "cell_type": "markdown",
   "metadata": {},
   "source": [
    "## Prepare the inputs for the algoritm 3: Order to depots"
   ]
  },
  {
   "cell_type": "markdown",
   "metadata": {},
   "source": [
    "### Function: V_p_SC set of shelves containing item p"
   ]
  },
  {
   "cell_type": "code",
   "execution_count": 8,
   "metadata": {},
   "outputs": [
    {
     "data": {
      "text/plain": [
       "['9']"
      ]
     },
     "execution_count": 8,
     "metadata": {},
     "output_type": "execute_result"
    }
   ],
   "source": [
    "#Function: V_p_SC set of shelves containing item p\n",
    "#V_p_SC.append()\n",
    "p='ID=7'\n",
    "def get_shelves(p):\n",
    "    V_p_SC=set()\n",
    "    for shelf, itms in S.items():\n",
    "        for key,value in itms.items():\n",
    "            if p==key:\n",
    "                #print(order)\n",
    "                V_p_SC.add(shelf)\n",
    "    return list(V_p_SC)\n",
    "V_p_SC=get_shelves(p)    \n",
    "V_p_SC"
   ]
  },
  {
   "cell_type": "markdown",
   "metadata": {},
   "source": [
    "### Function get list of items from an order o\n"
   ]
  },
  {
   "cell_type": "code",
   "execution_count": 10,
   "metadata": {},
   "outputs": [
    {
     "data": {
      "text/plain": [
       "['ID=3', 'ID=7']"
      ]
     },
     "execution_count": 10,
     "metadata": {},
     "output_type": "execute_result"
    }
   ],
   "source": [
    "#get list of items of an order o\n",
    "o='0'\n",
    "def get_items(o):\n",
    "    lst_items=[]\n",
    "    for order, order_info in O.items():\n",
    "        for key in order_info.keys():\n",
    "            if order==o:\n",
    "                lst_items.append(key)\n",
    "    return lst_items\n",
    "lst_items=get_items(o)\n",
    "lst_items"
   ]
  },
  {
   "cell_type": "markdown",
   "metadata": {},
   "source": [
    "### Function to get distance from an order to a depot: formula (30) in Xie paper"
   ]
  },
  {
   "cell_type": "code",
   "execution_count": 11,
   "metadata": {},
   "outputs": [
    {
     "data": {
      "text/plain": [
       "24.4"
      ]
     },
     "execution_count": 11,
     "metadata": {},
     "output_type": "execute_result"
    }
   ],
   "source": [
    "o='0' #order\n",
    "#depot i\n",
    "i=D[0]\n",
    "def dist_oi(o,i):\n",
    "    lst_items=get_items(o)\n",
    "    d_oi=0\n",
    "    for p in lst_items:    \n",
    "        V_p_SC=get_shelves(p) #get set of shelves containing p\n",
    "        dij=[]\n",
    "        for j in V_p_SC:\n",
    "            dij.append(dist[i][j])\n",
    "        d_oi+=min(dij)\n",
    "    return d_oi #already outputing correct results\n",
    "dist_oi(o,i)"
   ]
  },
  {
   "cell_type": "markdown",
   "metadata": {},
   "source": [
    "### Function: Create input D_o_hat: an array of (10,2) --> distances of 10 orders and 2 depots  and: \\mu_o, for all orders o, is an array of (10,1)"
   ]
  },
  {
   "cell_type": "code",
   "execution_count": 13,
   "metadata": {},
   "outputs": [],
   "source": [
    "def set_dist(O,D):\n",
    "    D_o_hat=np.zeros([len(D),len(O)])\n",
    "    for i in range(len(D)):\n",
    "        for j in range(len(O)):\n",
    "            D_o_hat[i,j]=dist_oi(list(O.keys())[j],D[i])\n",
    "    #calculate D_o_hat for the case when D has more than 2 depots! here it has 2--> no need\n",
    "    mu_o=np.abs(D_o_hat[0]-D_o_hat[1])\n",
    "    return mu_o, D_o_hat"
   ]
  },
  {
   "cell_type": "markdown",
   "metadata": {},
   "source": [
    "### function to sort O, D_o_hat according to mu_o in decending order\n"
   ]
  },
  {
   "cell_type": "code",
   "execution_count": 14,
   "metadata": {},
   "outputs": [
    {
     "data": {
      "text/plain": [
       "{'5': {'ID=5': 1, 'ID=2': 3, 'ID=4': 2, 'ID=7': 1, 'ID=8': 1},\n",
       " '9': {'ID=7': 1, 'ID=8': 1, 'ID=6': 1, 'ID=4': 1, 'ID=2': 1, 'ID=1': 1},\n",
       " '4': {'ID=3': 2, 'ID=5': 1, 'ID=4': 1},\n",
       " '7': {'ID=1': 1, 'ID=8': 1, 'ID=7': 1},\n",
       " '0': {'ID=3': 1, 'ID=7': 1},\n",
       " '8': {'ID=6': 1, 'ID=0': 2, 'ID=2': 2, 'ID=1': 1, 'ID=5': 1, 'ID=4': 1},\n",
       " '3': {'ID=7': 2, 'ID=1': 1, 'ID=5': 1, 'ID=6': 1},\n",
       " '6': {'ID=0': 3, 'ID=3': 1, 'ID=1': 1},\n",
       " '1': {'ID=7': 1, 'ID=6': 2, 'ID=8': 1, 'ID=0': 2, 'ID=2': 1},\n",
       " '2': {'ID=7': 1, 'ID=5': 1}}"
      ]
     },
     "execution_count": 14,
     "metadata": {},
     "output_type": "execute_result"
    }
   ],
   "source": [
    "# sort O and D_o_hat according to mu_o in decending order\n",
    "O={'0':{'ID=3':1,'ID=7':1}, '1':{'ID=7':1,'ID=6':2, 'ID=8':1, 'ID=0':2, 'ID=2':1}, '2':{'ID=7':1,'ID=5':1}, '3':{'ID=7':2,'ID=1':1, 'ID=5':1, 'ID=6':1},\n",
    "   '4':{'ID=3':2,'ID=5':1, 'ID=4':1}, '5':{'ID=5':1,'ID=2':3, 'ID=4':2, 'ID=7':1, 'ID=8':1}, '6':{'ID=0':3,'ID=3':1,'ID=1':1}, '7':{'ID=1':1,'ID=8':1,'ID=7':1},\n",
    "  '8':{'ID=6':1,'ID=0':2,'ID=2':2,'ID=1':1,'ID=5':1,'ID=4':1 }, '9':{'ID=7':1,'ID=8':1,'ID=6':1,'ID=4':1,'ID=2':1,'ID=1':1 }}\n",
    "mu_o=np.array([3.6, 0.9, 0. , 1.8, 6.3, 9.9, 0.9, 4.5, 1.8, 9. ])\n",
    "D_o_hat=np.array([[24.4 , 58.25, 22.6 , 45.6 , 37.05, 62.75, 35.65, 37.45, 71.3 ,\n",
    "        74.9 ],\n",
    "       [20.8 , 57.35, 22.6 , 47.4 , 30.75, 52.85, 34.75, 32.95, 69.5 ,\n",
    "        65.9 ]])\n",
    "def sortOD_mu(mu_o,D_o_hat,O):\n",
    "    #get the indexes of mu_o in decending order\n",
    "    mu_o_sorted=list(np.argsort(mu_o)[::-1])\n",
    "    O_sorted_lst=[]\n",
    "    D_o_hat_sorted=[[],[]]\n",
    "    for k in mu_o_sorted:\n",
    "        O_sorted_lst.append(list(O.items())[k])\n",
    "        D_o_hat_sorted= np.append(D_o_hat_sorted, D_o_hat[:,k].reshape(2,1), axis=1)\n",
    "    keys=[]\n",
    "    values=[]\n",
    "    for (key,value) in O_sorted_lst:\n",
    "        keys.append(key)\n",
    "        values.append(value)   \n",
    "    O_sorted=dict(zip(keys, values))\n",
    "    return O_sorted, D_o_hat_sorted   \n",
    "\n",
    "O_sorted, D_o_hat_sorted=sortOD_mu(mu_o,D_o_hat,O)\n",
    "O_sorted\n",
    "#D_o_hat_sorted"
   ]
  },
  {
   "cell_type": "code",
   "execution_count": 15,
   "metadata": {},
   "outputs": [
    {
     "data": {
      "text/plain": [
       "12.330000000000002"
      ]
     },
     "execution_count": 15,
     "metadata": {},
     "output_type": "execute_result"
    }
   ],
   "source": [
    "#dict of items vs weight\n",
    "Items_w={'ID=0':2.94,'ID=1':2.12,'ID=2':2.26,'ID=3':1.39,'ID=4':0.8,'ID=5':0.52,'ID=6':0.68,'ID=7':2.27,'ID=8':2.18,'ID=9':2.69,'ID=10':0.58,'ID=11':2.79,'ID=12':1.08,'ID=13':2.4,'ID=14':1.89,'ID=15':2.64,\n",
    "      'ID=16':2.21,'ID=17':0.77,'ID=18':2.27,'ID=19':2.01,'ID=20':2.67,'ID=21':2.44,'ID=22':1.85,'ID=23':1.22}\n",
    "#o={'ID=7': 2, 'ID=1': 1, 'ID=5': 1, 'ID=6': 1}\n",
    "o='6'\n",
    "def weight_order(o):\n",
    "    o_info=O[o]\n",
    "    w_o=0\n",
    "    for key,value in o_info.items():\n",
    "        w_o+= Items_w.get(key)*value\n",
    "    return w_o\n",
    "weight_order(o)"
   ]
  },
  {
   "cell_type": "markdown",
   "metadata": {},
   "source": [
    "## Algorithm 3: Greedy assignment of orders to depots"
   ]
  },
  {
   "cell_type": "code",
   "execution_count": 16,
   "metadata": {},
   "outputs": [
    {
     "data": {
      "text/plain": [
       "(array([[0., 0., 0., 0., 1., 1., 1., 1., 1., 1.],\n",
       "        [1., 1., 1., 1., 0., 0., 0., 0., 0., 0.]]),\n",
       " {'5': 'OutD1',\n",
       "  '9': 'OutD1',\n",
       "  '4': 'OutD1',\n",
       "  '7': 'OutD1',\n",
       "  '0': 'OutD0',\n",
       "  '8': 'OutD0',\n",
       "  '3': 'OutD0',\n",
       "  '6': 'OutD0',\n",
       "  '1': 'OutD0',\n",
       "  '2': 'OutD0'})"
      ]
     },
     "execution_count": 16,
     "metadata": {},
     "output_type": "execute_result"
    }
   ],
   "source": [
    "O={'0':{'ID=3':1,'ID=7':1}, '1':{'ID=7':1,'ID=6':2, 'ID=8':1, 'ID=0':2, 'ID=2':1}, '2':{'ID=7':1,'ID=5':1}, '3':{'ID=7':2,'ID=1':1, 'ID=5':1, 'ID=6':1},\n",
    "   '4':{'ID=3':2,'ID=5':1, 'ID=4':1}, '5':{'ID=5':1,'ID=2':3, 'ID=4':2, 'ID=7':1, 'ID=8':1}, '6':{'ID=0':3,'ID=3':1,'ID=1':1}, '7':{'ID=1':1,'ID=8':1,'ID=7':1},\n",
    "  '8':{'ID=6':1,'ID=0':2,'ID=2':2,'ID=1':1,'ID=5':1,'ID=4':1 }, '9':{'ID=7':1,'ID=8':1,'ID=6':1,'ID=4':1,'ID=2':1,'ID=1':1 }}\n",
    "\n",
    "O_sorted={'5': {'ID=5': 1, 'ID=2': 3, 'ID=4': 2, 'ID=7': 1, 'ID=8': 1},\n",
    " '9': {'ID=7': 1, 'ID=8': 1, 'ID=6': 1, 'ID=4': 1, 'ID=2': 1, 'ID=1': 1},\n",
    " '4': {'ID=3': 2, 'ID=5': 1, 'ID=4': 1},\n",
    " '7': {'ID=1': 1, 'ID=8': 1, 'ID=7': 1},\n",
    " '0': {'ID=3': 1, 'ID=7': 1},\n",
    " '8': {'ID=6': 1, 'ID=0': 2, 'ID=2': 2, 'ID=1': 1, 'ID=5': 1, 'ID=4': 1},\n",
    " '3': {'ID=7': 2, 'ID=1': 1, 'ID=5': 1, 'ID=6': 1},\n",
    " '6': {'ID=0': 3, 'ID=3': 1, 'ID=1': 1},\n",
    " '1': {'ID=7': 1, 'ID=6': 2, 'ID=8': 1, 'ID=0': 2, 'ID=2': 1},\n",
    " '2': {'ID=7': 1, 'ID=5': 1}}\n",
    "\n",
    "D_o_hat_sorted=np.array([[62.75, 74.9 , 37.05, 37.45, 24.4 , 45.6 , 71.3 , 35.65, 58.25,\n",
    "        22.6 ],\n",
    "       [52.85, 65.9 , 30.75, 32.95, 20.8 , 47.4 , 69.5 , 34.75, 57.35,\n",
    "        22.6 ]])\n",
    "\n",
    "D_o_hat=np.array([[24.4 , 58.25, 22.6 , 45.6 , 37.05, 62.75, 35.65, 37.45, 71.3 ,\n",
    "        74.9 ],\n",
    "       [20.8 , 57.35, 22.6 , 47.4 , 30.75, 52.85, 34.75, 32.95, 69.5 ,\n",
    "        65.9 ]])\n",
    "mu_o=np.array([3.6, 0.9, 0. , 1.8, 6.3, 9.9, 0.9, 4.5, 1.8, 9. ])\n",
    "#capacity of cobot: 18kg\n",
    "c=18 \n",
    "#determine B_star = overal minimum number of batches required to carry out all orders: formula (32) in the Xie paper\n",
    "#initialize total weight of the set of all orders O\n",
    "W_O = 0\n",
    "for o in O.keys():\n",
    "    W_O += weight_order(o)\n",
    "B_star=np.rint(W_O/c)\n",
    "    \n",
    "def orderToDepot(O, mu_o, D_o_hat):\n",
    "    #Initialize W_total at depots outD0 and outD1 in an one-dimensional array\n",
    "    W_total=[0,0]\n",
    "    #save the assignment of orders to depots in a dictionary\n",
    "    Woi={}\n",
    "    #save the assignment of order to depots in an array\n",
    "    w_oi=np.zeros([len(D),len(O)])  #2x10\n",
    "    #weight of an order\n",
    "    #total weight at depot i\n",
    "    # sort O according to mu_0\n",
    "    O_sorted, D_o_hat_sorted =sortOD_mu(mu_o,D_o_hat,O)\n",
    "    k=0\n",
    "    for o in O_sorted.keys():\n",
    "        #weight of order o\n",
    "        wo=weight_order(o)\n",
    "        #assign o to depot i\n",
    "        i=np.argmin(D_o_hat_sorted[:,0]) \n",
    "        not_i=np.argmax(D_o_hat_sorted[:,0]) \n",
    "        #check balancing, np.rint = round up\n",
    "        if ((W_total[i]+wo)/c) <= np.rint(B_star/len(D)):\n",
    "            w_oi[i,k]=1\n",
    "            Woi[o]=D[i]\n",
    "            W_total[i]+=wo\n",
    "            #eliminate o from O_sorted\n",
    "            #O_sorted.pop(o, None) # no need to delete in case there are only 2 depots\n",
    "        else:\n",
    "            #assign o to the other depot\n",
    "            w_oi[not_i,k]=1\n",
    "            Woi[o]=D[not_i]\n",
    "            W_total[not_i]+=wo           \n",
    "        #increase counting variable one unit more\n",
    "        k+=1\n",
    "    return w_oi, Woi\n",
    "\n",
    "#Woi \n",
    "w_oi=orderToDepot(O, mu_o, D_o_hat)\n",
    "w_oi     "
   ]
  },
  {
   "cell_type": "markdown",
   "metadata": {},
   "source": [
    "## 4. Algorithm 4: Order Batching and routing\n",
    "In this algorithm the order o of the depot i needed to be assigned to batches while forming tours(picking items with certain ordering but orders are not necessary to be picked one by one (check project description)) without violating the batch capacity (cobot capacity)."
   ]
  },
  {
   "cell_type": "markdown",
   "metadata": {},
   "source": [
    "#### Input of the algorithm 4:"
   ]
  },
  {
   "cell_type": "code",
   "execution_count": 17,
   "metadata": {},
   "outputs": [],
   "source": [
    "# O_asg with orders o_i assigned to depot i\n",
    "O_asg={'5': 'OutD1',\n",
    "  '9': 'OutD1',\n",
    "  '4': 'OutD1',\n",
    "  '7': 'OutD1',\n",
    "  '0': 'OutD0',\n",
    "  '8': 'OutD0',\n",
    "  '3': 'OutD0',\n",
    "  '6': 'OutD0',\n",
    "  '1': 'OutD0',\n",
    "  '2': 'OutD0'}\n",
    "#O_0 with orders o assigned to depot 0\n",
    "O_0=  {'0': 'OutD0',\n",
    "  '8': 'OutD0',\n",
    "  '3': 'OutD0',\n",
    "  '6': 'OutD0',\n",
    "  '1': 'OutD0',\n",
    "  '2': 'OutD0'}\n",
    "#O_1 with orders o assigned to depot 1\n",
    "O_1={'5': 'OutD1',\n",
    "  '9': 'OutD1',\n",
    "  '4': 'OutD1',\n",
    "  '7': 'OutD1'}"
   ]
  },
  {
   "cell_type": "markdown",
   "metadata": {},
   "source": [
    "### 4.1 Function minDist(O_check, O_temp)\n",
    "the minimum possible distance from any item of o to any item of the orders in the set O_temp in the batch. If O_temp is empty, o is chosen randomly.\n",
    "In doing so, we can decide whether we should include o to the batch.\n",
    "\n",
    "O_check is set of the orders to be assigned in the batch\n",
    "O_temp is the set of the orders that are already assigned in the batch "
   ]
  },
  {
   "cell_type": "markdown",
   "metadata": {},
   "source": [
    "##### function DistOO\n",
    "to check the distance of an order to the other order: summing up all the possible distances of the items in order 1 to any item of the order 2\n",
    "* In the single shelf policy: it is easy because then the distance btw 2 items is just the distance btw two shelves, here is that approach\n",
    "* In the mixed shelf: a bit more problematic because an item could be stored in different shelves, and the distance btw 2 items could be the distance among many different shelves, we dont know which shelves we should consider: think about it later! \n",
    "\n",
    "In Xie paper, there is a sentence: 'As an item can be stored in\n",
    "many shelves, the shelf that minimizes the distance to any of the shelves visited\n",
    "in the current batch is determined.'"
   ]
  },
  {
   "cell_type": "markdown",
   "metadata": {},
   "source": [
    "##### Remark:\n",
    "As in this task 2.1, the main purpose is to initialize a solution (feasible), we dont have to care about the objective function. \n",
    "Using distance btw depots, shelves or items vs items to initialize a solution is also reasonable because time = distance/speed, \n",
    "and speed of cobots and human pickers are given."
   ]
  },
  {
   "cell_type": "code",
   "execution_count": 18,
   "metadata": {},
   "outputs": [
    {
     "data": {
      "text/plain": [
       "0.8999999999999986"
      ]
     },
     "execution_count": 18,
     "metadata": {},
     "output_type": "execute_result"
    }
   ],
   "source": [
    "#function to calculate distance btw 2 items, this can be used for mixed-shelf case\n",
    "def distII(itm1, itm2):\n",
    "    #get shelves containing item p\n",
    "    V1=get_shelves(itm1)\n",
    "    V2=get_shelves(itm2)\n",
    "    dii=0\n",
    "    for s1 in V1:\n",
    "        for s2 in V2:\n",
    "            dii+=dist[s1][s2]\n",
    "    return dii\n",
    "itm1='ID=3'\n",
    "itm2='ID=7'\n",
    "dii=distII(itm1,itm2)\n",
    "dii"
   ]
  },
  {
   "cell_type": "code",
   "execution_count": 19,
   "metadata": {},
   "outputs": [],
   "source": [
    "#not yet needed\n",
    "#function to calculate distance btw 2 orders: at the moment this function is not necessary\n",
    "def distOO(o1, o2):\n",
    "    lst1=get_items(o1)\n",
    "    lst2=get_items(o2)\n",
    "    d=0\n",
    "    for itm1 in lst1:\n",
    "        for itm2 in lst2:\n",
    "            d+=distII(itm1, itm2)\n",
    "    return d"
   ]
  },
  {
   "cell_type": "code",
   "execution_count": 20,
   "metadata": {},
   "outputs": [
    {
     "data": {
      "text/plain": [
       "['ID=7', 'ID=3', 'ID=5']"
      ]
     },
     "execution_count": 20,
     "metadata": {},
     "output_type": "execute_result"
    }
   ],
   "source": [
    "#combine items of a list of orders \n",
    "#O_temp: list of orders\n",
    "O_temp=['0','2']\n",
    "def combine_itm(O_temp):\n",
    "    set_comb=set()\n",
    "    #set3 = set1.union(set2)\n",
    "    for o in O_temp:\n",
    "        set_comb=set_comb.union(set(get_items(o)))\n",
    "    return list(set_comb)\n",
    "lst_comb=combine_itm(O_temp)\n",
    "lst_comb"
   ]
  },
  {
   "cell_type": "markdown",
   "metadata": {},
   "source": [
    "#### minDist that requires both Oi and O_temp non-empty\n"
   ]
  },
  {
   "cell_type": "code",
   "execution_count": 21,
   "metadata": {},
   "outputs": [
    {
     "data": {
      "text/plain": [
       "['2', '3', '1']"
      ]
     },
     "execution_count": 21,
     "metadata": {},
     "output_type": "execute_result"
    }
   ],
   "source": [
    "#Inputs:\n",
    "#O_check= list of orders to choose the next one to be assigned to the batch\n",
    "#O_temp: list of orders that are already assigned to the batch \n",
    "#Output: turn the permutation of orders in O_check with preferences (with distance to O_temp in ascending order, min stands in the first position):\n",
    "#which order should choose first will stay first in the list\n",
    "O_temp=['0']\n",
    "O_check=['1','2','3']\n",
    "#O_check=['1','3']\n",
    "def minDist(O_check, O_temp):\n",
    "    comb_temp=combine_itm(O_temp)#list\n",
    "    lst=[]\n",
    "    for o in O_check:\n",
    "        # total distance\n",
    "        d=0\n",
    "        #get items of o\n",
    "        o_itms=get_items(o) #list\n",
    "        for itm1 in comb_temp:\n",
    "            for itm2 in o_itms:\n",
    "                d+=distII(itm1, itm2)\n",
    "        lst.append(d)\n",
    "    #arrange list of order with distances to O_temp in ascending\n",
    "    ind_dec=list(np.argsort(lst))\n",
    "    O_prefer=[]\n",
    "    for i in ind_dec:\n",
    "        O_prefer.append(O_check[i])\n",
    "        \n",
    "    return O_prefer\n",
    "O_prefer=minDist(O_check, O_temp)\n",
    "O_prefer"
   ]
  },
  {
   "cell_type": "markdown",
   "metadata": {},
   "source": [
    "### Algorithm 5. Function greedyTour(tour=[t_1,...,t_n,t_1],o)\n",
    "Update tour when adding 1 more order"
   ]
  },
  {
   "cell_type": "markdown",
   "metadata": {},
   "source": [
    "##### Function to optimally add  a shelf to a tour"
   ]
  },
  {
   "cell_type": "code",
   "execution_count": 22,
   "metadata": {},
   "outputs": [
    {
     "data": {
      "text/plain": [
       "(0.0, 1)"
      ]
     },
     "execution_count": 22,
     "metadata": {},
     "output_type": "execute_result"
    }
   ],
   "source": [
    "# Check correct answer: j=3, 10-->2-->7, d_add=0, because d(10,7)=2,7; d(2,7)=0.9; d(10,2)=1.8\n",
    "tour=['OutD0', '9','10','7','OutD0']\n",
    "s='2'\n",
    "def addMinShelf(tour,s):\n",
    "    lst=[]\n",
    "    for j in range(1,len(tour)):\n",
    "        d_add_j=dist[tour[j-1]][s]+dist[s][tour[j]]-dist[tour[j-1]][tour[j]]\n",
    "        lst.append(d_add_j)\n",
    "    #print(lst)\n",
    "    d_add=np.min(lst)\n",
    "    j=np.argmin(lst)+1 # real j will be j+1\n",
    "    return d_add, j\n",
    "d_add, j = addMinShelf(tour,s)   \n",
    "d_add, j"
   ]
  },
  {
   "cell_type": "markdown",
   "metadata": {},
   "source": [
    "##### Function greedyTour"
   ]
  },
  {
   "cell_type": "code",
   "execution_count": 23,
   "metadata": {},
   "outputs": [],
   "source": [
    "#inputs: tour=[t0,t1,...t_n, t0], where t0 is one of the depot. order o, to update the tour, \n",
    "#with the assumption that the batch is already feasible\n",
    "#output: the updated tour\n",
    "\n",
    "def greedyTour(tour,o):\n",
    "    #initialize\n",
    "    #d_add_best=1000000\n",
    "    P_oC=get_items(o) # list of items in o\n",
    "    #get items with quantities of items in o\n",
    "    itms_quant_o=O[o]\n",
    "    for p in P_oC:\n",
    "        V_p=get_shelves(p)#list of shelves containing p\n",
    "        for s in V_p:\n",
    "            #skip 1 iteration if tour already contains s, this is to avoid duplicate shelf in tour\n",
    "            #in order to calculate makespan later, we need to keep the number of items piked at each shelf, hence we\n",
    "            # should accumulate the quantities of items s in this step\n",
    "            if s in set(tour):\n",
    "                continue\n",
    "            print('s=',s)\n",
    "            d_add, j = addMinShelf(tour,s) \n",
    "            print('d_add, j=',(d_add, j))\n",
    "            tour.insert(j,s)\n",
    "        #update the quantity of p in shelf s_best\n",
    "        #S[s_best][p][1] = S[s_best][p][1]- itms_quant_o[p]\n",
    "    return tour"
   ]
  },
  {
   "cell_type": "code",
   "execution_count": 24,
   "metadata": {},
   "outputs": [
    {
     "name": "stdout",
     "output_type": "stream",
     "text": [
      "61.099999999999994\n",
      "48.099999999999994\n",
      "40.900000000000006\n"
     ]
    }
   ],
   "source": [
    "#the distance of a tour\n",
    "def distTour(tour):\n",
    "    d=0\n",
    "    for i in range(len(tour)-1):\n",
    "        d+=dist[tour[i]][tour[i+1]]\n",
    "    return d\n",
    "tour1=['OutD0', '11', '2', '15', '16', '7', '1', 'OutD0']\n",
    "\n",
    "tour2=['OutD0', '11', '2',  '7', '1','15', '16', 'OutD0']\n",
    "tour3=['OutD0', '15', '16', '11', '2',  '7', '1','OutD0']\n",
    "print(distTour(tour1))\n",
    "print(distTour(tour2))\n",
    "print(distTour(tour3))"
   ]
  },
  {
   "cell_type": "markdown",
   "metadata": {},
   "source": [
    "### Batch to tour\n",
    "arrange a batch in tour"
   ]
  },
  {
   "cell_type": "code",
   "execution_count": 25,
   "metadata": {},
   "outputs": [],
   "source": [
    "def batchToTour(Bi,tour):\n",
    "    for o in Bi:\n",
    "        tour=greedyTour(tour,o)\n",
    "    return tour"
   ]
  },
  {
   "cell_type": "markdown",
   "metadata": {},
   "source": [
    "### 4.3 Algorithm to define batches and tours"
   ]
  },
  {
   "cell_type": "code",
   "execution_count": 26,
   "metadata": {},
   "outputs": [],
   "source": [
    "#depot 0\n",
    "\n",
    "def orderToBatch_Tour(Oi):\n",
    "    Bi=[]\n",
    "    batchnr=1\n",
    "    #set of orders assigned to OutD0\n",
    "    #Oi=O0\n",
    "    #batch capacity or cobot capacity\n",
    "    c=18\n",
    "    while len(Oi)!=0:\n",
    "        #Initialization for the new batch\n",
    "        #random an order for O_temp\n",
    "        O_temp=random.sample(Oi, 1) #O_temp=['6']\n",
    "        o=O_temp[0]\n",
    "        weight_O_temp= weight_order(o)\n",
    "        print('weight_O_temp initialization=', weight_O_temp)\n",
    "        tour=['OutD0','OutD0'] #[di, di]\n",
    "        tour=greedyTour(tour,o)\n",
    "        Oi=Oi.difference(set(o))\n",
    "        lst_preferences=minDist(list(Oi), O_temp)\n",
    "        print('lst_preferences=', lst_preferences)\n",
    "        while (weight_O_temp<c):\n",
    "            for o in lst_preferences:\n",
    "                if (weight_O_temp + weight_order(o)) < c: \n",
    "                    weight_O_temp += weight_order(o)\n",
    "                    tour=greedyTour(tour,o)\n",
    "                    O_temp.append(o)\n",
    "                    Oi=Oi.difference(set(o))\n",
    "                    print('O_temp=',O_temp)\n",
    "            Bi.append((O_temp,tour,batchnr))\n",
    "            batchnr += 1\n",
    "            break  # this is needed to exist the second while loop\n",
    "    return Bi"
   ]
  },
  {
   "cell_type": "code",
   "execution_count": 28,
   "metadata": {},
   "outputs": [
    {
     "name": "stdout",
     "output_type": "stream",
     "text": [
      "weight_O_temp initialization= 2.79\n",
      "s= 9\n",
      "d_add, j= (23.5, 1)\n",
      "s= 2\n",
      "d_add, j= (0.0, 1)\n",
      "lst_preferences= ['0', '3', '6', '1', '8']\n",
      "s= 10\n",
      "d_add, j= (1.7999999999999972, 2)\n",
      "O_temp= ['2', '0']\n",
      "s= 15\n",
      "d_add, j= (17.400000000000002, 4)\n",
      "s= 1\n",
      "d_add, j= (0.0, 1)\n",
      "O_temp= ['2', '0', '3']\n",
      "weight_O_temp initialization= 14.52\n",
      "s= 1\n",
      "d_add, j= (19.9, 1)\n",
      "s= 7\n",
      "d_add, j= (0.0, 1)\n",
      "s= 16\n",
      "d_add, j= (21.0, 1)\n",
      "s= 15\n",
      "d_add, j= (0.0, 1)\n",
      "s= 2\n",
      "d_add, j= (0.0, 3)\n",
      "s= 11\n",
      "d_add, j= (0.0, 3)\n",
      "lst_preferences= ['6', '1']\n",
      "weight_O_temp initialization= 12.330000000000002\n",
      "s= 7\n",
      "d_add, j= (19.9, 1)\n",
      "s= 10\n",
      "d_add, j= (5.399999999999999, 1)\n",
      "s= 15\n",
      "d_add, j= (15.600000000000001, 1)\n",
      "lst_preferences= ['1']\n",
      "weight_O_temp initialization= 13.950000000000001\n",
      "s= 9\n",
      "d_add, j= (23.5, 1)\n",
      "s= 1\n",
      "d_add, j= (0.0, 1)\n",
      "s= 4\n",
      "d_add, j= (1.7999999999999972, 2)\n",
      "s= 7\n",
      "d_add, j= (0.0, 1)\n",
      "s= 16\n",
      "d_add, j= (17.4, 5)\n",
      "lst_preferences= []\n"
     ]
    },
    {
     "data": {
      "text/plain": [
       "[(['2', '0', '3'], ['OutD0', '1', '2', '10', '9', '15', 'OutD0'], 1),\n",
       " (['8'], ['OutD0', '15', '16', '11', '2', '7', '1', 'OutD0'], 2),\n",
       " (['6'], ['OutD0', '15', '10', '7', 'OutD0'], 3),\n",
       " (['1'], ['OutD0', '7', '1', '4', '9', '16', 'OutD0'], 4)]"
      ]
     },
     "execution_count": 28,
     "metadata": {},
     "output_type": "execute_result"
    }
   ],
   "source": [
    "# Data\n",
    "#O_0 with orders o assigned to depot 0\n",
    "O_0=  {'0': 'OutD0',\n",
    "  '8': 'OutD0',\n",
    "  '3': 'OutD0',\n",
    "  '6': 'OutD0',\n",
    "  '1': 'OutD0',\n",
    "  '2': 'OutD0'}\n",
    "#O_1 with orders o assigned to depot 1\n",
    "O_1={'5': 'OutD1',\n",
    "  '9': 'OutD1',\n",
    "  '4': 'OutD1',\n",
    "  '7': 'OutD1'}\n",
    "#set of orders assigned to 0\n",
    "O0={'0','8','3','6','1','2'}\n",
    "orderToBatch_Tour(O0)"
   ]
  },
  {
   "cell_type": "code",
   "execution_count": null,
   "metadata": {},
   "outputs": [],
   "source": []
  }
 ],
 "metadata": {
  "kernelspec": {
   "display_name": "Python 3",
   "language": "python",
   "name": "python3"
  },
  "language_info": {
   "codemirror_mode": {
    "name": "ipython",
    "version": 3
   },
   "file_extension": ".py",
   "mimetype": "text/x-python",
   "name": "python",
   "nbconvert_exporter": "python",
   "pygments_lexer": "ipython3",
   "version": "3.7.6"
  }
 },
 "nbformat": 4,
 "nbformat_minor": 4
}
