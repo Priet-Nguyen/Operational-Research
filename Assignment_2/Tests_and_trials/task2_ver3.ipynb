{
 "cells": [
  {
   "cell_type": "code",
   "execution_count": 1,
   "metadata": {},
   "outputs": [],
   "source": [
    "import numpy as np\n",
    "import pandas as pd"
   ]
  },
  {
   "cell_type": "code",
   "execution_count": 3,
   "metadata": {},
   "outputs": [],
   "source": [
    "#order of calculation of f based on arcs\n",
    "arc_f={(3,2):[(1,3)], (3,4):[(1,3)],(5,2): [1,5], (5,6): [1,5],(2,4):[(3,2),(1,2),(5,2)],(2,7):[(3,2),(1,2),(5,2)],(2,6):[(3,2),(1,2),(5,2)], (4,7):[(2,4),(3,4)], (6,7):[(2,6),(5,6)]} # ordered arcs\n",
    "#tij\n",
    "arc_tij={(1,2): 10, (1,3):20, (1,5):25, (2,4):35, (2,6):35, (2,7):30, (3,2):15, (3,4):20, (4,7):30, (5,2):20, (5,6):25,  (6,7):10 }\n",
    "#alpha, beta\n",
    "node_albe={1:(0,1000000), 2:(18,30), 3:(35,45), 4:(64,75), 5:(35,50), 6:(64,75), 7:(0,1000000)}\n",
    "#gamma, delta\n",
    "arc_gamdel={(1,2): (10,15),(1,3):(10,25), (1,5):(15,25), (2,4):(28,35), (2,6):(26,34), (2,7):(32,60), (3,2):(35,50), (3,4):(43,50), (4,7):(70,99), (5,2): (30,80), (5,6):(48,55), (6,7):(72,80)}"
   ]
  },
  {
   "cell_type": "markdown",
   "metadata": {},
   "source": [
    "### 1. Some first conditions"
   ]
  },
  {
   "cell_type": "code",
   "execution_count": 4,
   "metadata": {},
   "outputs": [],
   "source": [
    "def feasib(fij,alph_i,beta_i,gam_ij,delta_ij):#conditions from (1) to (5)\n",
    "    if ((alph_i <= gam_ij) and (alph_i <= fij) and (fij<= beta_i)):#condition (1)\n",
    "        return True\n",
    "    elif ((beta_i<=fij) and (fij<=delta_ij) and (gam_ij <= fij)):#condition (2)\n",
    "        return True\n",
    "    \n",
    "    "
   ]
  },
  {
   "cell_type": "code",
   "execution_count": 5,
   "metadata": {},
   "outputs": [
    {
     "name": "stdout",
     "output_type": "stream",
     "text": [
      "True\n"
     ]
    }
   ],
   "source": [
    "#Check feasibility of f13\n",
    "print(feasib(fij=0,alph_i=0,beta_i=1000000,gam_ij=10,delta_ij=25))"
   ]
  },
  {
   "cell_type": "code",
   "execution_count": 6,
   "metadata": {},
   "outputs": [],
   "source": [
    "def cal_feasib_fjk(fij,alph_i,alph_j,beta_i,beta_j,gam_ij,delta_ij,gam_jk,delta_jk,tij): # cal_feasib_fjk means calculation and \n",
    "    #check for the feasibility\n",
    "    f=None\n",
    "    k=True\n",
    "    if ((alph_i <= gam_ij) and (alph_i <= fij) and (fij<= beta_i)):#condition (1)\n",
    "        l_pi= gam_ij#lower pi\n",
    "        u_pi=min(delta_ij, min(beta_i-fij,delta_ij-fij))#upper pi\n",
    "        for pi in range (l_pi,u_pi+1):\n",
    "            fjk= fij+tij+pi\n",
    "            if feasib(fjk,alph_j,beta_j,gam_jk,delta_jk) == True:\n",
    "                f=fjk\n",
    "                break\n",
    "        return f,k\n",
    "    #if k is false, f:=None (2)(4)\n",
    "\n",
    "    \n",
    "    "
   ]
  },
  {
   "cell_type": "code",
   "execution_count": 7,
   "metadata": {},
   "outputs": [
    {
     "name": "stdout",
     "output_type": "stream",
     "text": [
      "35 15\n"
     ]
    }
   ],
   "source": [
    "fij,alph_i,alph_j,beta_i,beta_j,gam_ij,delta_ij,gam_jk,delta_jk,tij= 0, 0, 35, 1000000, 30, 10, 25, 35, 50, 20\n",
    "if ((alph_i <= gam_ij) and (alph_i <= fij) and (fij<= beta_i )):\n",
    "    l_pi= gam_ij#lower pi\n",
    "    u_pi=min(delta_ij, min(beta_i-fij,delta_ij-fij))#upper pi\n",
    "    for pi in range (l_pi,u_pi+1):\n",
    "        fjk= fij+tij+pi\n",
    "        if feasib(fjk,alph_j,beta_j,gam_jk,delta_jk) == True:\n",
    "            print(fjk,pi)\n",
    "            break\n",
    "        #print(fjk)"
   ]
  },
  {
   "cell_type": "code",
   "execution_count": 8,
   "metadata": {},
   "outputs": [
    {
     "data": {
      "text/plain": [
       "25"
      ]
     },
     "execution_count": 8,
     "metadata": {},
     "output_type": "execute_result"
    }
   ],
   "source": [
    "l_pi\n",
    "u_pi"
   ]
  },
  {
   "cell_type": "code",
   "execution_count": 9,
   "metadata": {},
   "outputs": [],
   "source": [
    "#calculate f32, i=1, j=3, k=2\n",
    "k=cal_feasib_fjk(fij=0,alph_i=0,alph_j=35,beta_i=1000000,beta_j=30,gam_ij=10,delta_ij=25,gam_jk=35,delta_jk=50,tij=20)\n",
    "#calculate f52, i=1, j=5, k=2, result is 50, which is different from paper,--> write Xie...\n",
    "k=cal_feasib_fjk(fij=0,alph_i=0,alph_j=35,beta_i=1000000,beta_j=50,gam_ij=15,delta_ij=25,gam_jk=30,delta_jk=80,tij=25)\n",
    "        \n",
    "    "
   ]
  },
  {
   "cell_type": "code",
   "execution_count": 10,
   "metadata": {},
   "outputs": [
    {
     "data": {
      "text/plain": [
       "(50, True)"
      ]
     },
     "execution_count": 10,
     "metadata": {},
     "output_type": "execute_result"
    }
   ],
   "source": [
    "k"
   ]
  },
  {
   "cell_type": "markdown",
   "metadata": {},
   "source": [
    "### 2. More conditions\n"
   ]
  },
  {
   "cell_type": "code",
   "execution_count": 11,
   "metadata": {},
   "outputs": [],
   "source": [
    "def feasib(fij,alph_i,beta_i,gam_ij,delta_ij):#conditions from (1) to (5)\n",
    "    if ((alph_i <= gam_ij) and (alph_i <= fij) and (fij<= beta_i)):#condition (1)\n",
    "        return True\n",
    "    #condition (2)and(4)\n",
    "    elif ((beta_i<=fij) and (gam_ij<=fij) and (fij <= delta_ij)) or ((gam_ij<fij) and (fij<alph_i)and(alph_i<=delta_ij)) or ((gam_ij<fij)and (fij<delta_ij)and(delta_ij<=alph_i)):\n",
    "        return True\n",
    "    #conditions(3) and (5)\n",
    "    elif ((fij<gam_ij)and (gam_ij<alph_i))or((fij<alph_i)and(alph_i<gam_ij)and(gam_ij<beta_i))or((fij<alph_i)and(alph_i<beta_i)and(beta_i<gam_ij))or(delta_ij<fij):\n",
    "        return False"
   ]
  },
  {
   "cell_type": "code",
   "execution_count": 12,
   "metadata": {},
   "outputs": [],
   "source": [
    "def cal_feasib_fjk(fij,alph_i,alph_j,beta_i,beta_j,gam_ij,delta_ij,gam_jk,delta_jk,tij): # cal_feasib_fjk means calculation and \n",
    "    #check for the feasibility\n",
    "    f=None\n",
    "    pi=None\n",
    "    k=False\n",
    "    if ((alph_i <= gam_ij) and (alph_i <= fij) and (fij<= beta_i)):#condition (1)\n",
    "        l_pi= gam_ij#lower pi\n",
    "        u_pi=min(delta_ij, min(beta_i-fij,delta_ij-fij))#upper pi\n",
    "        for pi in range (l_pi,u_pi+1):\n",
    "            fjk= fij+tij+pi\n",
    "            if feasib(fjk,alph_j,beta_j,gam_jk,delta_jk) == True:\n",
    "                f=fjk\n",
    "                k=True\n",
    "                break\n",
    "        return f,pi,k\n",
    "    #condition (2)and(4)\n",
    "    elif ((beta_i<=fij) and (gam_ij<=fij) and (fij <= delta_ij)) or ((gam_ij<fij) and (fij<alph_i)and(alph_i<=delta_ij)) or ((gam_ij<fij)and (fij<delta_ij)and(delta_ij<=alph_i)):\n",
    "        pi=0\n",
    "        fjk= fij+tij+pi\n",
    "        k=True\n",
    "        return fjk,pi,k\n",
    "    #conditions(3) and (5)\n",
    "    elif ((fij<gam_ij)and (gam_ij<alph_i))or((fij<alph_i)and(alph_i<gam_ij)and(gam_ij<beta_i))or((fij<alph_i)and(alph_i<beta_i)and(beta_i<gam_ij))or(delta_ij<fij):\n",
    "        k=False\n",
    "        return f,pi,k"
   ]
  },
  {
   "cell_type": "code",
   "execution_count": 13,
   "metadata": {},
   "outputs": [],
   "source": [
    "#check feasibility of f13\n",
    "l=feasib(fij=0,alph_i=0,beta_i=1000000,gam_ij=10,delta_ij=25)\n",
    "#calculate f32, i=1, j=3, k=2\n",
    "f,pi,k=cal_feasib_fjk(fij=0,alph_i=0,alph_j=35,beta_i=1000000,beta_j=30,gam_ij=10,delta_ij=25,gam_jk=35,delta_jk=50,tij=20)"
   ]
  },
  {
   "cell_type": "code",
   "execution_count": 14,
   "metadata": {},
   "outputs": [
    {
     "data": {
      "text/plain": [
       "(35, 15, True)"
      ]
     },
     "execution_count": 14,
     "metadata": {},
     "output_type": "execute_result"
    }
   ],
   "source": [
    "f,pi,k"
   ]
  },
  {
   "cell_type": "code",
   "execution_count": 15,
   "metadata": {},
   "outputs": [],
   "source": [
    "### work with dictionary of f_arcs\n",
    "arc_f={(3,2):[(1,3)], (3,4):[(1,3)],(5,2): [(1,5)], (5,6): [1,5],(2,4):[(3,2),(1,2),(5,2)],(2,7):[(3,2),(1,2),(5,2)],(2,6):[(3,2),(1,2),(5,2)], (4,7):[(2,4),(3,4)], (6,7):[(2,6),(5,6)]} # ordered arcs"
   ]
  },
  {
   "cell_type": "code",
   "execution_count": 19,
   "metadata": {},
   "outputs": [
    {
     "name": "stdout",
     "output_type": "stream",
     "text": [
      "3 2\n",
      "[(1, 3)]\n"
     ]
    },
    {
     "data": {
      "text/plain": [
       "tuple"
      ]
     },
     "execution_count": 19,
     "metadata": {},
     "output_type": "execute_result"
    }
   ],
   "source": [
    "# access key and value\n",
    "for key in arc_f:\n",
    "    print(key[0],key[1])\n",
    "    print(arc_f[key])\n",
    "    break\n",
    "type(key)"
   ]
  },
  {
   "cell_type": "code",
   "execution_count": 101,
   "metadata": {},
   "outputs": [
    {
     "name": "stdout",
     "output_type": "stream",
     "text": [
      "3 2\n",
      "(1, 3)\n",
      "fij= 0\n",
      "tij= 20\n",
      "alph_i, beta_i= 0 1000000\n",
      "gam_ij,delta_ij= 10 25\n",
      "True\n"
     ]
    }
   ],
   "source": [
    "#now connect with the dictionaries of t, f, gamma, delta, alpha, beta\n",
    "#dict of values of f\n",
    "dict_f={(1,3):0,(1,2):0, (1,5):0}\n",
    "k=0\n",
    "N=1#number of iterations for the for loop\n",
    "#feasib(fij,alph_i,beta_i,gam_ij,delta_ij)\n",
    "for key in arc_f:\n",
    "    k+=1\n",
    "    print(key[0],key[1])\n",
    "    prev_arc=arc_f[key]\n",
    "    for arc in prev_arc:\n",
    "        print(arc)\n",
    "        fij=dict_f[arc]\n",
    "        print('fij=',fij)\n",
    "        tij=arc_tij[arc]\n",
    "        print('tij=',tij)\n",
    "        alph_i, beta_i= node_albe[arc[0]][0],node_albe[arc[0]][1]\n",
    "        print('alph_i, beta_i=',node_albe[arc[0]][0],node_albe[arc[0]][1])\n",
    "        gam_ij,delta_ij=arc_gamdel[arc][0], arc_gamdel[arc][1]\n",
    "        print('gam_ij,delta_ij=',arc_gamdel[arc][0],  arc_gamdel[arc][1])\n",
    "        print(feasib(fij,alph_i,beta_i,gam_ij,delta_ij)) #why this gives none?\n",
    "    if k>=N:\n",
    "        break\n",
    "        \n",
    "    "
   ]
  },
  {
   "cell_type": "markdown",
   "metadata": {},
   "source": [
    "### 3. now connect with the dictionaries of t, f, gamma, delta, alpha, beta"
   ]
  },
  {
   "cell_type": "code",
   "execution_count": 102,
   "metadata": {},
   "outputs": [
    {
     "name": "stdout",
     "output_type": "stream",
     "text": [
      "3 2\n",
      "(1, 3)\n"
     ]
    }
   ],
   "source": [
    "\n",
    "#dict of values of f\n",
    "dict_f={(1,3):0,(1,2):0, (1,5):0}\n",
    "k=0\n",
    "N=1#number of iterations for the for loop\n",
    "#feasib(fij,alph_i,beta_i,gam_ij,delta_ij)\n",
    "for key in arc_f:\n",
    "    k+=1\n",
    "    print(key[0],key[1]) #j=key[0], k=key[1]\n",
    "    prev_arc=arc_f[key]\n",
    "    for arc in prev_arc:\n",
    "        print(arc)\n",
    "        fij=dict_f[arc]\n",
    "        #print('fij=',fij)\n",
    "        tij=arc_tij[arc]\n",
    "        #print('tij=',tij)\n",
    "        alph_i, beta_i= node_albe[arc[0]][0],node_albe[arc[0]][1]\n",
    "        #print('alph_i, beta_i=',node_albe[arc[0]][0],node_albe[arc[0]][1])\n",
    "        gam_ij,delta_ij=arc_gamdel[arc][0], arc_gamdel[arc][1]\n",
    "        #print('gam_ij,delta_ij=',arc_gamdel[arc][0],  arc_gamdel[arc][1])\n",
    "        #print(feasib(fij,alph_i,beta_i,gam_ij,delta_ij)) #why this gives none?\n",
    "    if k>=N:\n",
    "        break"
   ]
  },
  {
   "cell_type": "markdown",
   "metadata": {},
   "source": [
    "### 4. Now add more values to f dictionary"
   ]
  },
  {
   "cell_type": "code",
   "execution_count": 104,
   "metadata": {},
   "outputs": [
    {
     "name": "stdout",
     "output_type": "stream",
     "text": [
      "3 2\n",
      "(1, 3)\n",
      "(35, 15, True)\n",
      "3 4\n",
      "(1, 3)\n",
      "(35, 15, True)\n"
     ]
    }
   ],
   "source": [
    "#dict of values of f\n",
    "dict_f={(1,3):0,(1,2):0, (1,5):0}\n",
    "k=0\n",
    "N=2 #number of iterations for the for loop\n",
    "#feasib(fij,alph_i,beta_i,gam_ij,delta_ij)\n",
    "for key in arc_f:\n",
    "    k+=1\n",
    "    print(key[0],key[1])#j=key[0], k=key[1]\n",
    "    prev_arc=arc_f[key]\n",
    "    for arc in prev_arc:\n",
    "        print(arc)\n",
    "        fij=dict_f[arc]\n",
    "        #print('fij=',fij)\n",
    "        tij=arc_tij[arc]\n",
    "        #print('tij=',tij)\n",
    "        alph_i, beta_i= node_albe[arc[0]][0],node_albe[arc[0]][1]\n",
    "        #print('alph_i, beta_i=',node_albe[arc[0]][0],node_albe[arc[0]][1])\n",
    "        \n",
    "        #alph_j, beta_j\n",
    "        alph_j, beta_j= node_albe[key[0]][0],node_albe[key[0]][1]\n",
    "        #print('alph_i, beta_i=',node_albe[arc[0]][0],node_albe[arc[0]][1])\n",
    "        \n",
    "        \n",
    "        gam_ij,delta_ij=arc_gamdel[arc][0], arc_gamdel[arc][1]\n",
    "        #print('gam_ij,delta_ij=',arc_gamdel[arc][0],  arc_gamdel[arc][1])\n",
    "        \n",
    "        #gam_jk,delta_jk\n",
    "        gam_jk,delta_jk=arc_gamdel[key][0], arc_gamdel[key][1]\n",
    "        \n",
    "        #print(feasib(fij,alph_i,beta_i,gam_ij,delta_ij)) \n",
    "        \n",
    "        #cal_feasib_fjk\n",
    "        print(cal_feasib_fjk(fij,alph_i,alph_j,beta_i,beta_j,gam_ij,delta_ij,gam_jk,delta_jk,tij))\n",
    "        f, pi, b= cal_feasib_fjk(fij,alph_i,alph_j,beta_i,beta_j,gam_ij,delta_ij,gam_jk,delta_jk,tij)\n",
    "        #append to dict of f\n",
    "        dict_f[key]=f\n",
    "        \n",
    "    if k>=N:\n",
    "        break"
   ]
  },
  {
   "cell_type": "code",
   "execution_count": 105,
   "metadata": {},
   "outputs": [
    {
     "data": {
      "text/plain": [
       "{(1, 3): 0, (1, 2): 0, (1, 5): 0, (3, 2): 35, (3, 4): 35}"
      ]
     },
     "execution_count": 105,
     "metadata": {},
     "output_type": "execute_result"
    }
   ],
   "source": [
    "dict_f"
   ]
  },
  {
   "cell_type": "markdown",
   "metadata": {},
   "source": [
    "### 5. Now increase N to 3,4"
   ]
  },
  {
   "cell_type": "code",
   "execution_count": 106,
   "metadata": {},
   "outputs": [],
   "source": [
    "arc_f={(3,2):[(1,3)], (3,4):[(1,3)],(5,2): [(1,5)], (5,6): [(1,5)],(2,4):[(3,2),(1,2),(5,2)],(2,7):[(3,2),(1,2),(5,2)],(2,6):[(3,2),(1,2),(5,2)], (4,7):[(2,4),(3,4)], (6,7):[(2,6),(5,6)]} # ordered arcs"
   ]
  },
  {
   "cell_type": "code",
   "execution_count": 138,
   "metadata": {},
   "outputs": [
    {
     "name": "stdout",
     "output_type": "stream",
     "text": [
      "3 2\n",
      "(1, 3)\n",
      "(35, 15, True)\n",
      "3 4\n",
      "(1, 3)\n",
      "(35, 15, True)\n",
      "5 2\n",
      "(1, 5)\n",
      "(50, 25, True)\n"
     ]
    }
   ],
   "source": [
    "#need to check, here there is error, maybe because of the multiple case\n",
    "#N=3: error!!!\n",
    "#dict of values of f\n",
    "dict_f={(1,3):0,(1,2):0, (1,5):0}\n",
    "k=0\n",
    "N=3 #number of iterations for the for loop\n",
    "#feasib(fij,alph_i,beta_i,gam_ij,delta_ij)\n",
    "for key in arc_f:\n",
    "    k+=1\n",
    "    print(key[0],key[1])#j=key[0], k=key[1]\n",
    "    prev_arc=arc_f[key]\n",
    "    for arc in prev_arc:\n",
    "        print(arc)\n",
    "        fij=dict_f[arc]\n",
    "        #print('fij=',fij)\n",
    "        tij=arc_tij[arc]\n",
    "        #print('tij=',tij)\n",
    "        alph_i, beta_i= node_albe[arc[0]][0],node_albe[arc[0]][1]\n",
    "        #print('alph_i, beta_i=',node_albe[arc[0]][0],node_albe[arc[0]][1])\n",
    "        \n",
    "        #alph_j, beta_j\n",
    "        alph_j, beta_j= node_albe[key[0]][0],node_albe[key[0]][1]\n",
    "        #print('alph_i, beta_i=',node_albe[arc[0]][0],node_albe[arc[0]][1])\n",
    "        \n",
    "        \n",
    "        gam_ij,delta_ij=arc_gamdel[arc][0], arc_gamdel[arc][1]\n",
    "        #print('gam_ij,delta_ij=',arc_gamdel[arc][0],  arc_gamdel[arc][1])\n",
    "        \n",
    "        #gam_jk,delta_jk\n",
    "        gam_jk,delta_jk=arc_gamdel[key][0], arc_gamdel[key][1]\n",
    "        \n",
    "        #print(feasib(fij,alph_i,beta_i,gam_ij,delta_ij)) \n",
    "        \n",
    "        #cal_feasib_fjk\n",
    "        print(cal_feasib_fjk(fij,alph_i,alph_j,beta_i,beta_j,gam_ij,delta_ij,gam_jk,delta_jk,tij))\n",
    "        f, pi, b= cal_feasib_fjk(fij,alph_i,alph_j,beta_i,beta_j,gam_ij,delta_ij,gam_jk,delta_jk,tij)\n",
    "        #append to dict of f\n",
    "        dict_f[key]=f\n",
    "        \n",
    "    if k>=N:\n",
    "        break"
   ]
  },
  {
   "cell_type": "code",
   "execution_count": 109,
   "metadata": {},
   "outputs": [
    {
     "data": {
      "text/plain": [
       "{(1, 3): 0,\n",
       " (1, 2): 0,\n",
       " (1, 5): 0,\n",
       " (3, 2): 35,\n",
       " (3, 4): 35,\n",
       " (5, 2): 50,\n",
       " (5, 6): 40}"
      ]
     },
     "execution_count": 109,
     "metadata": {},
     "output_type": "execute_result"
    }
   ],
   "source": [
    "dict_f"
   ]
  },
  {
   "cell_type": "code",
   "execution_count": null,
   "metadata": {},
   "outputs": [],
   "source": [
    "#f(5,2)=50 wrong!check it!"
   ]
  },
  {
   "cell_type": "markdown",
   "metadata": {},
   "source": [
    "### 6. Now deal with the multiple cases, #f(2,7) wrong!why? f(5,2) is wrong as well! check again the conditions and their meaning"
   ]
  },
  {
   "cell_type": "code",
   "execution_count": 188,
   "metadata": {},
   "outputs": [
    {
     "name": "stdout",
     "output_type": "stream",
     "text": [
      "(3, 2)\n",
      "(1, 3)\n",
      "(35, 15, True)\n",
      "(3, 4)\n",
      "(1, 3)\n",
      "(35, 15, True)\n",
      "(5, 2)\n",
      "(1, 5)\n",
      "(50, 25, True)\n",
      "(5, 6)\n",
      "(1, 5)\n",
      "(40, 15, True)\n",
      "(2, 4)\n",
      "(3, 2)\n",
      "(None, None, False)\n",
      "(1, 2)\n",
      "(20, 10, True)\n",
      "(5, 2)\n",
      "(70, 0, True)\n",
      "(2, 7)\n",
      "(3, 2)\n",
      "(None, None, False)\n",
      "(1, 2)\n",
      "(20, 10, True)\n",
      "(5, 2)\n",
      "(70, 0, True)\n",
      "(2, 6)\n",
      "(3, 2)\n",
      "(None, None, False)\n",
      "(1, 2)\n",
      "(20, 10, True)\n",
      "(5, 2)\n",
      "(70, 0, True)\n"
     ]
    },
    {
     "data": {
      "text/plain": [
       "{(1, 3): (0, 10),\n",
       " (1, 2): (0, 10),\n",
       " (1, 5): (0, 15),\n",
       " (3, 2): (35, 15),\n",
       " (3, 4): (35, 15),\n",
       " (5, 2): (50, 25),\n",
       " (5, 6): (40, 15),\n",
       " (2, 4): (20, 10),\n",
       " (2, 7): (20, 10),\n",
       " (2, 6): (20, 10)}"
      ]
     },
     "execution_count": 188,
     "metadata": {},
     "output_type": "execute_result"
    }
   ],
   "source": [
    "arc_f={(3,2):[(1,3)], (3,4):[(1,3)],(5,2): [(1,5)], (5,6): [(1,5)],(2,4):[(3,2),(1,2),(5,2)],(2,7):[(3,2),(1,2),(5,2)],(2,6):[(3,2),(1,2),(5,2)], (4,7):[(2,4),(3,4)], (6,7):[(2,6),(5,6)]} # ordered arcs\n",
    "#dict of values of f\n",
    "dict_f={(1,3):(0,10),(1,2):(0,10), (1,5):(0,15)}\n",
    "k=0\n",
    "N=7 #number of iterations for the for loop #we have 12-3=9 arcs to calculate\n",
    "#feasib(fij,alph_i,beta_i,gam_ij,delta_ij)\n",
    "for key in arc_f:\n",
    "    k+=1\n",
    "    #print(key[0],key[1])#j=key[0], k=key[1]\n",
    "    print(key)\n",
    "    prev_arc=arc_f[key]\n",
    "    f_list=[]\n",
    "    fpi_list=[]\n",
    "    for arc in prev_arc:\n",
    "        print(arc)\n",
    "        fij=dict_f[arc][0]\n",
    "        #print('fij=',fij)\n",
    "        tij=arc_tij[arc]\n",
    "        #print('tij=',tij)\n",
    "        alph_i, beta_i= node_albe[arc[0]][0],node_albe[arc[0]][1]\n",
    "        #print('alph_i, beta_i=',node_albe[arc[0]][0],node_albe[arc[0]][1])\n",
    "        \n",
    "        #alph_j, beta_j\n",
    "        alph_j, beta_j= node_albe[key[0]][0],node_albe[key[0]][1]\n",
    "        #print('alph_i, beta_i=',node_albe[arc[0]][0],node_albe[arc[0]][1])\n",
    "        \n",
    "        \n",
    "        gam_ij,delta_ij=arc_gamdel[arc][0], arc_gamdel[arc][1]\n",
    "        #print('gam_ij,delta_ij=',arc_gamdel[arc][0],  arc_gamdel[arc][1])\n",
    "        \n",
    "        #gam_jk,delta_jk\n",
    "        gam_jk,delta_jk=arc_gamdel[key][0], arc_gamdel[key][1]\n",
    "        \n",
    "        #print(feasib(fij,alph_i,beta_i,gam_ij,delta_ij)) \n",
    "        \n",
    "        #cal_feasib_fjk\n",
    "        print(cal_feasib_fjk(fij,alph_i,alph_j,beta_i,beta_j,gam_ij,delta_ij,gam_jk,delta_jk,tij))\n",
    "        f, pi, b= cal_feasib_fjk(fij,alph_i,alph_j,beta_i,beta_j,gam_ij,delta_ij,gam_jk,delta_jk,tij)\n",
    "        #f_list.append()\n",
    "        #append to dict of f_list\n",
    "        if b==True:\n",
    "            fpi_list.append((f, pi))\n",
    "            f_list.append(f)\n",
    "    #look for the min f\n",
    "    index_min = np.argmin(f_list)\n",
    "    dict_f[key]=fpi_list [index_min]\n",
    "    if k>=N:\n",
    "        break\n",
    "dict_f\n",
    "#f(2,7) wrong!why?\n",
    "#f()"
   ]
  },
  {
   "cell_type": "code",
   "execution_count": 172,
   "metadata": {},
   "outputs": [
    {
     "name": "stdout",
     "output_type": "stream",
     "text": [
      "(None, None, False)\n",
      "(20, 10, True)\n",
      "(70, 0, True)\n"
     ]
    },
    {
     "data": {
      "text/plain": [
       "{(1, 3): (0, 10),\n",
       " (1, 2): (0, 10),\n",
       " (1, 5): (0, 15),\n",
       " (3, 2): (35, 15),\n",
       " (3, 4): (35, 15),\n",
       " (5, 2): (50, 25),\n",
       " (5, 6): (40, 15),\n",
       " (2, 4): (20, 10)}"
      ]
     },
     "execution_count": 172,
     "metadata": {},
     "output_type": "execute_result"
    }
   ],
   "source": [
    "dict_f={(1,3):(0,10),(1,2):(0,10), (1,5):(0,15),(3, 2): (35,15), (3, 4): (35,15), (5, 2): (50,25), (5, 6): (40,15)}\n",
    "arc_f={(2,4):[(3,2),(1,2),(5,2)]}\n",
    "key=(2,4)\n",
    "prev_arc=arc_f[key]\n",
    "#print(prev_arc)\n",
    "f_list=[]\n",
    "fpi_list=[]\n",
    "for arc in prev_arc:\n",
    "    #print(arc)\n",
    "    #print(dict_f[arc])\n",
    "    fij=dict_f[arc][0]\n",
    "    #print(fij)\n",
    "    tij=arc_tij[arc]\n",
    "    alph_i, beta_i= node_albe[arc[0]][0],node_albe[arc[0]][1]\n",
    "    alph_j, beta_j= node_albe[key[0]][0],node_albe[key[0]][1]\n",
    "    gam_ij,delta_ij=arc_gamdel[arc][0], arc_gamdel[arc][1]\n",
    "    gam_jk,delta_jk=arc_gamdel[key][0], arc_gamdel[key][1]\n",
    "    print(cal_feasib_fjk(fij,alph_i,alph_j,beta_i,beta_j,gam_ij,delta_ij,gam_jk,delta_jk,tij))\n",
    "    f, pi, b= cal_feasib_fjk(fij,alph_i,alph_j,beta_i,beta_j,gam_ij,delta_ij,gam_jk,delta_jk,tij)\n",
    "    if b==True:\n",
    "        fpi_list.append((f, pi))\n",
    "        f_list.append(f)\n",
    "index_min = np.argmin(f_list)\n",
    "dict_f[key]=fpi_list [index_min]\n",
    "dict_f"
   ]
  },
  {
   "cell_type": "code",
   "execution_count": 177,
   "metadata": {},
   "outputs": [
    {
     "name": "stdout",
     "output_type": "stream",
     "text": [
      "(35, 15, True)\n"
     ]
    },
    {
     "data": {
      "text/plain": [
       "{(1, 3): (0, 10), (1, 2): (0, 10), (1, 5): (0, 15), (3, 2): (35, 15)}"
      ]
     },
     "execution_count": 177,
     "metadata": {},
     "output_type": "execute_result"
    }
   ],
   "source": [
    "dict_f={(1,3):(0,10),(1,2):(0,10), (1,5):(0,15)}\n",
    "arc_f={(3,2):[(1,3)]}\n",
    "key=(3,2)\n",
    "prev_arc=arc_f[key]\n",
    "#print(prev_arc)\n",
    "f_list=[]\n",
    "fpi_list=[]\n",
    "for arc in prev_arc:\n",
    "    #print(arc)\n",
    "    #print(dict_f[arc])\n",
    "    fij=dict_f[arc][0]\n",
    "    #print(fij)\n",
    "    tij=arc_tij[arc]\n",
    "    alph_i, beta_i= node_albe[arc[0]][0],node_albe[arc[0]][1]\n",
    "    alph_j, beta_j= node_albe[key[0]][0],node_albe[key[0]][1]\n",
    "    gam_ij,delta_ij=arc_gamdel[arc][0], arc_gamdel[arc][1]\n",
    "    gam_jk,delta_jk=arc_gamdel[key][0], arc_gamdel[key][1]\n",
    "    print(cal_feasib_fjk(fij,alph_i,alph_j,beta_i,beta_j,gam_ij,delta_ij,gam_jk,delta_jk,tij))\n",
    "    f, pi, b= cal_feasib_fjk(fij,alph_i,alph_j,beta_i,beta_j,gam_ij,delta_ij,gam_jk,delta_jk,tij)\n",
    "    if b==True:\n",
    "        fpi_list.append((f, pi))\n",
    "        f_list.append(f)\n",
    "index_min = np.argmin(f_list)\n",
    "dict_f[key]=fpi_list [index_min]\n",
    "dict_f"
   ]
  },
  {
   "cell_type": "markdown",
   "metadata": {},
   "source": [
    "### About dictionary"
   ]
  },
  {
   "cell_type": "code",
   "execution_count": 46,
   "metadata": {},
   "outputs": [
    {
     "ename": "IndentationError",
     "evalue": "expected an indented block (<ipython-input-46-85ab74152322>, line 4)",
     "output_type": "error",
     "traceback": [
      "\u001b[1;36m  File \u001b[1;32m\"<ipython-input-46-85ab74152322>\"\u001b[1;36m, line \u001b[1;32m4\u001b[0m\n\u001b[1;33m    for key in arc_f:\u001b[0m\n\u001b[1;37m      ^\u001b[0m\n\u001b[1;31mIndentationError\u001b[0m\u001b[1;31m:\u001b[0m expected an indented block\n"
     ]
    }
   ],
   "source": [
    "#loop over key, value of dict\n",
    "for key, value in d.items():\n",
    "#loop over key\n",
    "for key in arc_f:\n",
    "    print(key)"
   ]
  },
  {
   "cell_type": "code",
   "execution_count": null,
   "metadata": {},
   "outputs": [],
   "source": [
    "#get key by value\n",
    "dictionary = {'george': 16, 'amber': 19}\n",
    "search_age = input(\"Provide age\")\n",
    "for name, age in dictionary.items():  # for name, age in dictionary.iteritems():  (for Python 2.x)\n",
    "    if age == search_age:\n",
    "        print(name)\n",
    "#get value by key\n",
    "d = {1:2,2:3}\n",
    "d[1]"
   ]
  },
  {
   "cell_type": "markdown",
   "metadata": {},
   "source": [
    "### list\n"
   ]
  },
  {
   "cell_type": "code",
   "execution_count": 126,
   "metadata": {},
   "outputs": [
    {
     "data": {
      "text/plain": [
       "(20, 12)"
      ]
     },
     "execution_count": 126,
     "metadata": {},
     "output_type": "execute_result"
    }
   ],
   "source": [
    "fpi_lst=[(35, 15), (45,10), (20,12)]\n",
    "f_lst=[35,45,20]\n",
    "index_min = np.argmin(f_lst)\n",
    "index_min\n",
    "fpi_lst [index_min]"
   ]
  },
  {
   "cell_type": "code",
   "execution_count": 113,
   "metadata": {},
   "outputs": [
    {
     "data": {
      "text/plain": [
       "45"
      ]
     },
     "execution_count": 113,
     "metadata": {},
     "output_type": "execute_result"
    }
   ],
   "source": [
    "len(my_lst)\n",
    "my_lst[1][0]"
   ]
  },
  {
   "cell_type": "code",
   "execution_count": null,
   "metadata": {},
   "outputs": [],
   "source": [
    "for i in range(len(my_lst)):\n",
    "    \n",
    "    "
   ]
  }
 ],
 "metadata": {
  "kernelspec": {
   "display_name": "Python 3",
   "language": "python",
   "name": "python3"
  },
  "language_info": {
   "codemirror_mode": {
    "name": "ipython",
    "version": 3
   },
   "file_extension": ".py",
   "mimetype": "text/x-python",
   "name": "python",
   "nbconvert_exporter": "python",
   "pygments_lexer": "ipython3",
   "version": "3.7.6"
  }
 },
 "nbformat": 4,
 "nbformat_minor": 4
}
